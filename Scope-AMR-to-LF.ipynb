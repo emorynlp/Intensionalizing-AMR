{
 "cells": [
  {
   "cell_type": "markdown",
   "source": [
    "# Scope AMR-to-LF\n",
    "\n",
    "This notebook runs through the scope version of the translation function in section 4 of the paper. World variables are not represented as they are retrivable from the semantic type of AMR constants translated into STLC.\n",
    "\n",
    "`believe-01`, `sick-05`, etc. : $e \\rightarrow s \\rightarrow t$\n",
    "\n",
    "`ARG0`, `ARG1`, etc. : $e \\rightarrow e \\rightarrow s \\rightarrow t$\n",
    "\n",
    "`cont` : $e \\rightarrow (s \\rightarrow t) \\rightarrow s \\rightarrow t$\n",
    "\n",
    "`every`, `some`, `a`, etc. : $(e \\rightarrow s \\rightarrow t) \\rightarrow (e \\rightarrow s \\rightarrow t) \\rightarrow s \\rightarrow t $\n",
    "\n",
    "`&` : $(s \\rightarrow t) \\rightarrow (s \\rightarrow t) \\rightarrow s \\rightarrow t$"
   ],
   "metadata": {}
  },
  {
   "cell_type": "code",
   "execution_count": 1,
   "source": [
    "import penman"
   ],
   "outputs": [],
   "metadata": {}
  },
  {
   "cell_type": "markdown",
   "source": [
    "## Instance Assignment\n",
    "Instance assignment adds the variable name to free. Uninstantiated variables are not added to free."
   ],
   "metadata": {}
  },
  {
   "cell_type": "code",
   "execution_count": 2,
   "source": [
    "def instance_assignment(triple, free):\n",
    "    lf = f'{triple[2]}({triple[0]})'\n",
    "    free.add(triple[0])\n",
    "    return lf, free"
   ],
   "outputs": [],
   "metadata": {}
  },
  {
   "cell_type": "code",
   "execution_count": 3,
   "source": [
    "amr = '(x / P)'\n",
    "g = penman.decode(amr).triples\n",
    "\n",
    "instance_assignment(g[0], set())"
   ],
   "outputs": [
    {
     "output_type": "execute_result",
     "data": {
      "text/plain": [
       "('P(x)', {'x'})"
      ]
     },
     "metadata": {},
     "execution_count": 3
    }
   ],
   "metadata": {}
  },
  {
   "cell_type": "markdown",
   "source": [
    "## Role Assignment\n",
    "This rule is simpler than in the paper for two reasons:\n",
    "\n",
    "- We do not need the lambda term in the simple case.\n",
    "- We do not need a second rule for when the second argument is complex.\n",
    "\n",
    "This is because we are working with `amr.triples` which specifies the first argument of the relation."
   ],
   "metadata": {}
  },
  {
   "cell_type": "code",
   "execution_count": 4,
   "source": [
    "def role_assignment(triple):\n",
    "    lf = f'{triple[1][1:]}({triple[0]})({triple[2]})'\n",
    "    return lf"
   ],
   "outputs": [],
   "metadata": {}
  },
  {
   "cell_type": "code",
   "execution_count": 5,
   "source": [
    "free = set()\n",
    "amr = '(x / P :R y)'\n",
    "g = penman.decode(amr).triples\n",
    "\n",
    "role_assignment(g[1])"
   ],
   "outputs": [
    {
     "output_type": "execute_result",
     "data": {
      "text/plain": [
       "'R(x)(y)'"
      ]
     },
     "metadata": {},
     "execution_count": 5
    }
   ],
   "metadata": {}
  },
  {
   "cell_type": "markdown",
   "source": [
    "## Close\n",
    "\n",
    "`close()` takes a tuple of an lf and the set of instantiated free variables, and a world index.\n",
    "- It existentially closes the free variables and removes them from the set.\n",
    "- It introduces lambda abstraction over the world variables within the lf."
   ],
   "metadata": {}
  },
  {
   "cell_type": "code",
   "execution_count": 6,
   "source": [
    "def close(lf, free, store):\n",
    "    free -= set([x for x in store])\n",
    "    if free:\n",
    "        prefix = f'∃' + ','.join(f'{x}' for x in free) + '.'\n",
    "        free = set()\n",
    "        lf = prefix + lf\n",
    "    return lf, free, store"
   ],
   "outputs": [],
   "metadata": {}
  },
  {
   "cell_type": "code",
   "execution_count": 7,
   "source": [
    "close('P(x) & Q(y)', set(['x', 'y']), {'x' : 'every(boy)'})"
   ],
   "outputs": [
    {
     "output_type": "execute_result",
     "data": {
      "text/plain": [
       "('∃y.P(x) & Q(y)', set(), {'x': 'every(boy)'})"
      ]
     },
     "metadata": {},
     "execution_count": 7
    }
   ],
   "metadata": {}
  },
  {
   "cell_type": "markdown",
   "source": [
    "## Tree Depth\n",
    "\n",
    "In addition to computing the scope of **:content** we reference the depth of the parent node for complex restrictor arguments of generalized quantifiers (GQs) as well as **:pred** arguments of scope node."
   ],
   "metadata": {}
  },
  {
   "cell_type": "code",
   "execution_count": 8,
   "source": [
    "def node_depth(epidata):\n",
    "    '''\n",
    "    Uses penman epidata to determine node depth\n",
    "    Returns dictionary {triple : depth} for triple in epidata\n",
    "    where depth = depth of first node in triple\n",
    "    '''\n",
    "    depth = 0\n",
    "    tree_depth = {}\n",
    "    \n",
    "    for triple in epidata:\n",
    "        tree_depth[triple] = depth\n",
    "        if epidata[triple]:\n",
    "            for stack_op in epidata[triple]:\n",
    "                if isinstance(stack_op, penman.layout.Push):\n",
    "                    depth += 1\n",
    "                elif isinstance(stack_op, penman.layout.Pop):\n",
    "                    depth -= 1\n",
    "    return tree_depth"
   ],
   "outputs": [],
   "metadata": {}
  },
  {
   "cell_type": "markdown",
   "source": [
    "## Quantifier storage & Scope assignment\n",
    "\n",
    "`quant_store()` and `scope_assignment()` are defined along with `cont_assignment` in the same cell as `translation_func()` as they each call `translation_func()` to translate subgraphs.\n",
    "\n",
    "- `quant_store()` translates AMR quantifiers into GQs, removes them from the graph, and adds them to a store.\n",
    "\n",
    "- `translation_func()` iterates through the list of triples and calls either `instance_assignment()`, `role_assignment()`, `cont_assignment()` or `scope_assignment()`.\n",
    "\n",
    "- `scope_assignment()` interprets scope nodes.\n",
    "\n",
    "- `cont_assignment()` identifies the subgraph which forms the scope of **:content** and applies `translation_func()` to that subgraph.\n"
   ],
   "metadata": {}
  },
  {
   "cell_type": "code",
   "execution_count": 9,
   "source": [
    "def quant_store(graph, tree_depth):\n",
    "    '''\n",
    "    Takes a graph and tree_depth information.\n",
    "    Parses the graph and stores AMR quantifiers as GQs.\n",
    "    Removes all GQs from the graph.\n",
    "    Returns the graph and a store.\n",
    "    '''\n",
    "\n",
    "    store = {}\n",
    "\n",
    "    for triple in graph:\n",
    "        if triple[1] == ':quant':\n",
    "            var = triple[0]\n",
    "\n",
    "            # Find triple and index for start of restrictor argument\n",
    "            for triple2 in graph:\n",
    "                if (triple2[0] == var) & (triple2[1] == ':instance'):\n",
    "                    restrictor = triple2\n",
    "                    i_restrictor = graph.index(restrictor)\n",
    "                    break\n",
    "\n",
    "            # Build restrictor subgraph by iterating through remaining triples, if depth < triple, break\n",
    "            subgraph = []\n",
    "            for remaining_triple in graph[i_restrictor:]:\n",
    "                if tree_depth[remaining_triple] < tree_depth[restrictor]:\n",
    "                    break\n",
    "                else:\n",
    "                    subgraph.append(remaining_triple)\n",
    "\n",
    "            # Translate subgraph\n",
    "            restrictor_lf, restrictor_free, store = translation_func([x for x in subgraph if x[1] != ':quant'], set(), tree_depth, store)\n",
    "\n",
    "            # Don't add var to free in restrictor\n",
    "            restrictor_free -= set(var)\n",
    "\n",
    "            # Store GQ in store\n",
    "            lf = close(restrictor_lf, restrictor_free, store)[0]\n",
    "            store = close(restrictor_lf, restrictor_free, store)[2]\n",
    "            store[var] = f'{triple[2]}(λ{var}.{lf})'\n",
    "\n",
    "            # Remove GQs from the graph\n",
    "            for sub_triple in subgraph:\n",
    "                graph.remove(sub_triple)\n",
    "\n",
    "    return graph, store\n",
    "\n",
    "\n",
    "def scope_assignment(graph, i, tree_depth, store):\n",
    "    ''' \n",
    "    Takes graph, index of scope node, tree_depth info, and store.\n",
    "    Determines scope order of GQs. Translates scope node's :pred argument.\n",
    "    Pops GQs from the store in order.\n",
    "    Returns LF, store, and index for end of subgraph.\n",
    "    '''\n",
    "\n",
    "    # Order of GQ scope (in case they do not appear in order)\n",
    "    scope_order = []\n",
    "    for triple in [x for x in graph if (x[0] == graph[i][0]) & (':ARG' in x[1])]:\n",
    "        scope_order.append(triple)\n",
    "    scope_order.sort(key = lambda x: x[1], reverse = True)\n",
    "\n",
    "    # Find start of scope node :pred argument\n",
    "    for triple in graph[i:]:\n",
    "        if triple[0:2] == (graph[i][0], ':pred'):\n",
    "            pred_index = graph.index(triple)\n",
    "            \n",
    "    # Build :pred subgraph by iterating through remaining triples, if depth < or = that of :pred triple, break\n",
    "    subgraph = []\n",
    "    i = pred_index + 1\n",
    "\n",
    "    for remaining_triple in graph[i:]:\n",
    "        if tree_depth[remaining_triple] <= tree_depth[graph[pred_index]]:\n",
    "            break\n",
    "        else: \n",
    "            subgraph.append(remaining_triple)\n",
    "            i += 1\n",
    "    \n",
    "    lf, scope_free, store = translation_func(subgraph, set(), tree_depth, store)\n",
    "    lf_scope = close(lf, scope_free, store)[0]\n",
    "\n",
    "    # Pop GQs from store in order\n",
    "    if scope_order:\n",
    "        for triple in scope_order:\n",
    "            var = triple[2]\n",
    "            gq = store[var]\n",
    "            lf_scope = f'{gq}(λ{var}.{lf_scope})'\n",
    "            store.pop(var)\n",
    "\n",
    "    return lf_scope, store, i\n",
    "\n",
    "\n",
    "def translation_func(graph, free, tree_depth, store):\n",
    "    ''' \n",
    "    Takes graph, set of free instantiated variables, tree_depth info, and store.\n",
    "    Cycles through triples in graph, and applies either scope assignment, \n",
    "    instance assignment,content assignment, or role assignment.\n",
    "    Builds LF via conjunction.\n",
    "    Returns LF, free set, and store.\n",
    "    '''\n",
    "    \n",
    "    lf = ''\n",
    "    i = 0\n",
    "\n",
    "    while i < len(graph):\n",
    "        triple = graph[i]\n",
    "\n",
    "        # scope assignment =\n",
    "        if triple[2] == 'SCOPE':\n",
    "            scope_lf, store, i = scope_assignment(graph, i, tree_depth, store)\n",
    "            lf += ' & ' + scope_lf\n",
    "            i += 1\n",
    "\n",
    "        # instance assignment\n",
    "        elif triple[1] == ':instance':\n",
    "            lf += ' & ' + instance_assignment(triple, free)[0]\n",
    "            i += 1\n",
    "            \n",
    "        # content assignment\n",
    "        elif triple[1] == ':content':\n",
    "            cont_lf, free, i = cont_assignment(graph, free, tree_depth, i, store)\n",
    "            lf += ' & ' + cont_lf\n",
    "            \n",
    "        # role assignment\n",
    "        else:\n",
    "            lf += ' & ' + role_assignment(triple)\n",
    "            i += 1\n",
    "\n",
    "    # Remove surplus leading conjunction\n",
    "    lf = lf[3:]\n",
    "\n",
    "    return lf, free, store\n",
    "\n",
    "\n",
    "def cont_assignment(graph, free, tree_depth, i, store):\n",
    "    '''\n",
    "    Takes graph, free, tree_depth info, index of :content triple, and store.\n",
    "    Determines scope of :content.\n",
    "    Translates :content scope subgraph.\n",
    "    Returns LF, free, and index for end of subgraph.\n",
    "    '''\n",
    "    \n",
    "    triple = graph[i]\n",
    "    i += 1\n",
    "\n",
    "    # Build :content subgraph by iterating through remaining triples, if depth < or = that of triple, break\n",
    "    subgraph = []\n",
    "\n",
    "    for remaining_triple in graph[i:]:\n",
    "        if tree_depth[remaining_triple] <= tree_depth[triple]:\n",
    "            break\n",
    "        else: \n",
    "            subgraph.append(remaining_triple)\n",
    "            i += 1\n",
    "\n",
    "    # Translate subgraph\n",
    "    lf, content_free, store = translation_func(subgraph, set(), tree_depth, store)\n",
    "\n",
    "    content_lf = close(lf, content_free, store)[0]\n",
    "    lf = f'cont({triple[0]})({content_lf})'\n",
    "\n",
    "    free -= content_free\n",
    "\n",
    "    return lf, free, i\n"
   ],
   "outputs": [],
   "metadata": {}
  },
  {
   "cell_type": "markdown",
   "source": [
    "## Examples\n",
    "\n",
    "Example `ex3` and `ex4` translate to the same LF. We can either add a close operation on `ex3`, or assume a dummy scope node at the root of every AMR as in `ex4`."
   ],
   "metadata": {}
  },
  {
   "cell_type": "code",
   "execution_count": 10,
   "source": [
    "ex1 = '(s / SCOPE :ARG0 b :pred (d / dance-01 :ARG0 (b / boy :quant every)))'\n",
    "ex2 = '(s / SCOPE :ARG0 v :pred (h / hope-01 :ARG0 (b / boy) :content (b2 / buy-01 :ARG0 h :ARG1 (v / violin :quant a))))'\n",
    "ex3 = '(t / think-01 :ARG0 (b / boy) :content (s / SCOPE :ARG0 v :pred (h / hope-01 :ARG0 (g / girl) :content (b2 / buy-01 :ARG0 g :ARG1 (v / violin :quant a)))))'\n",
    "ex4 = '(s / SCOPE :pred (t / think-01 :ARG0 (b / boy) :content (s2 / SCOPE :ARG0 v :pred (h / hope-01 :ARG0 (g / girl) :content (b2 / buy-01 :ARG0 g :ARG1 (v / violin :quant a))))))'"
   ],
   "outputs": [],
   "metadata": {}
  },
  {
   "cell_type": "code",
   "execution_count": 11,
   "source": [
    "for ex in [ex1,ex2,ex3,ex4]:\n",
    "    g = penman.decode(ex)\n",
    "    tree_depth = node_depth(g.epidata)\n",
    "    graph = g.triples\n",
    "    free = set()\n",
    "\n",
    "    # Quant store\n",
    "    graph, store = quant_store(graph, tree_depth)\n",
    "\n",
    "    # Translate\n",
    "    lf, free, store = translation_func(graph, free, tree_depth, store)\n",
    "\n",
    "    # Close if root node is not scope node\n",
    "    if free:\n",
    "        lf = close(lf, free, store)[0]\n",
    "\n",
    "    print(f'⟦{ex}⟧')\n",
    "    print('=' + lf)\n",
    "    print('-' * 20)"
   ],
   "outputs": [
    {
     "output_type": "stream",
     "name": "stdout",
     "text": [
      "⟦(s / SCOPE :ARG0 b :pred (d / dance-01 :ARG0 (b / boy :quant every)))⟧\n",
      "=every(λb.boy(b))(λb.∃d.dance-01(d) & ARG0(d)(b))\n",
      "--------------------\n",
      "⟦(s / SCOPE :ARG0 v :pred (h / hope-01 :ARG0 (b / boy) :content (b2 / buy-01 :ARG0 h :ARG1 (v / violin :quant a))))⟧\n",
      "=a(λv.violin(v))(λv.∃b,h.hope-01(h) & ARG0(h)(b) & boy(b) & cont(h)(∃b2.buy-01(b2) & ARG0(b2)(h) & ARG1(b2)(v)))\n",
      "--------------------\n",
      "⟦(t / think-01 :ARG0 (b / boy) :content (s / SCOPE :ARG0 v :pred (h / hope-01 :ARG0 (g / girl) :content (b2 / buy-01 :ARG0 g :ARG1 (v / violin :quant a)))))⟧\n",
      "=∃b,t.think-01(t) & ARG0(t)(b) & boy(b) & cont(t)(a(λv.violin(v))(λv.∃g,h.hope-01(h) & ARG0(h)(g) & girl(g) & cont(h)(∃b2.buy-01(b2) & ARG0(b2)(g) & ARG1(b2)(v))))\n",
      "--------------------\n",
      "⟦(s / SCOPE :pred (t / think-01 :ARG0 (b / boy) :content (s2 / SCOPE :ARG0 v :pred (h / hope-01 :ARG0 (g / girl) :content (b2 / buy-01 :ARG0 g :ARG1 (v / violin :quant a))))))⟧\n",
      "=∃b,t.think-01(t) & ARG0(t)(b) & boy(b) & cont(t)(a(λv.violin(v))(λv.∃g,h.hope-01(h) & ARG0(h)(g) & girl(g) & cont(h)(∃b2.buy-01(b2) & ARG0(b2)(g) & ARG1(b2)(v))))\n",
      "--------------------\n"
     ]
    }
   ],
   "metadata": {}
  },
  {
   "cell_type": "code",
   "execution_count": null,
   "source": [],
   "outputs": [],
   "metadata": {}
  }
 ],
 "metadata": {
  "orig_nbformat": 4,
  "language_info": {
   "name": "python",
   "version": "3.8.10",
   "mimetype": "text/x-python",
   "codemirror_mode": {
    "name": "ipython",
    "version": 3
   },
   "pygments_lexer": "ipython3",
   "nbconvert_exporter": "python",
   "file_extension": ".py"
  },
  "kernelspec": {
   "name": "python3",
   "display_name": "Python 3.8.10 64-bit"
  },
  "interpreter": {
   "hash": "31f2aee4e71d21fbe5cf8b01ff0e069b9275f58929596ceb00d14d90e3e16cd6"
  }
 },
 "nbformat": 4,
 "nbformat_minor": 2
}