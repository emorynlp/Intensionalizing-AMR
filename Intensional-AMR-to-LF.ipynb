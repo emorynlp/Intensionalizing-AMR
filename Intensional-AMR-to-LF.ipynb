{
 "cells": [
  {
   "cell_type": "markdown",
   "source": [
    "# Intensional AMR-to-LF\n",
    "\n",
    "This notebook runs through the intensional version of the translation function in section 3 of the paper."
   ],
   "metadata": {}
  },
  {
   "cell_type": "code",
   "execution_count": 123,
   "source": [
    "import penman"
   ],
   "outputs": [],
   "metadata": {}
  },
  {
   "cell_type": "markdown",
   "source": [
    "## Free\n",
    "\n",
    "A set `free` will store variables which take part in instance assignment."
   ],
   "metadata": {}
  },
  {
   "cell_type": "code",
   "execution_count": 124,
   "source": [
    "free = set()"
   ],
   "outputs": [],
   "metadata": {}
  },
  {
   "cell_type": "markdown",
   "source": [
    "## World index\n",
    "\n",
    "We use a count `world` that will track the world index.\n",
    "\n",
    "When using this to index worlds in the lf we will do so with an underscore (i.e., **'w_1'**) to avoid naming clashes with variables which instantiate concepts like **'want-01'**."
   ],
   "metadata": {}
  },
  {
   "cell_type": "code",
   "execution_count": 125,
   "source": [
    "world = 0"
   ],
   "outputs": [],
   "metadata": {}
  },
  {
   "cell_type": "markdown",
   "source": [
    "## Instance Assignment\n",
    "Instance assignment adds the variable name to free. Uninstantiated variables are not added to free."
   ],
   "metadata": {}
  },
  {
   "cell_type": "code",
   "execution_count": 126,
   "source": [
    "def instance_assignment(triple, free, world):\n",
    "    lf = f'{triple[2]}({triple[0]})(w_{world})'\n",
    "    free.add(triple[0])\n",
    "    return lf, free"
   ],
   "outputs": [],
   "metadata": {}
  },
  {
   "cell_type": "code",
   "execution_count": 127,
   "source": [
    "amr = '(x / P)'\n",
    "g = penman.decode(amr).triples\n",
    "\n",
    "instance_assignment(g[0], free, world)"
   ],
   "outputs": [
    {
     "output_type": "execute_result",
     "data": {
      "text/plain": [
       "('P(x)(w_0)', {'x'})"
      ]
     },
     "metadata": {},
     "execution_count": 127
    }
   ],
   "metadata": {}
  },
  {
   "cell_type": "markdown",
   "source": [
    "## Role Assignment\n",
    "This rule is simpler than in the paper for two reasons:\n",
    "\n",
    "- We do not need the lambda term in the simple case.\n",
    "- We do not need a second rule for when the second argument is complex.\n",
    "\n",
    "This is because we are working with `amr.triples` which specifies the first argument of the relation."
   ],
   "metadata": {}
  },
  {
   "cell_type": "code",
   "execution_count": 128,
   "source": [
    "def role_assignment(triple, world):\n",
    "    lf = f'{triple[1][1:]}({triple[0]})({triple[2]})(w_{world})'\n",
    "    return lf"
   ],
   "outputs": [],
   "metadata": {}
  },
  {
   "cell_type": "code",
   "execution_count": 129,
   "source": [
    "free = set()\n",
    "amr = '(x / P :R y)'\n",
    "g = penman.decode(amr).triples\n",
    "\n",
    "role_assignment(g[1], world)"
   ],
   "outputs": [
    {
     "output_type": "execute_result",
     "data": {
      "text/plain": [
       "'R(x)(y)(w_0)'"
      ]
     },
     "metadata": {},
     "execution_count": 129
    }
   ],
   "metadata": {}
  },
  {
   "cell_type": "markdown",
   "source": [
    "## Close\n",
    "\n",
    "`close()` takes a tuple of an lf and the set of instantiated free variables, and a world index.\n",
    "- It existentially closes the free variables and removes them from the set.\n",
    "- It introduces lambda abstraction over the world variables within the lf."
   ],
   "metadata": {}
  },
  {
   "cell_type": "code",
   "execution_count": 130,
   "source": [
    "def close(lf, free, world):\n",
    "    prefix = f'λw_{world}.∃' + ','.join(f'{x}' for x in free) + '.'\n",
    "    free = set()\n",
    "    lf = prefix + lf\n",
    "    return lf, free"
   ],
   "outputs": [],
   "metadata": {}
  },
  {
   "cell_type": "markdown",
   "source": [
    "## Tree Depth\n",
    "\n",
    "When computing the scope of **:content** we will need to reference the depth of the parent node.\n",
    "\n",
    "We store this information in a dictionary to avoid computing it multiple times."
   ],
   "metadata": {}
  },
  {
   "cell_type": "code",
   "execution_count": 131,
   "source": [
    "def node_depth(epidata):\n",
    "    '''\n",
    "    Uses penman epidata to determine node depth\n",
    "    Returns dictionary {triple : depth} for triple in epidata\n",
    "    where depth = depth of first node in triple\n",
    "    '''\n",
    "\n",
    "    depth = 0\n",
    "    tree_depth = {}\n",
    "    \n",
    "    for triple in epidata:\n",
    "        tree_depth[triple] = depth\n",
    "        if epidata[triple]:\n",
    "            for stack_op in epidata[triple]:\n",
    "                if isinstance(stack_op, penman.layout.Push):\n",
    "                    depth += 1\n",
    "                elif isinstance(stack_op, penman.layout.Pop):\n",
    "                    depth -= 1\n",
    "    return tree_depth"
   ],
   "outputs": [],
   "metadata": {}
  },
  {
   "cell_type": "markdown",
   "source": [
    "## Translation function & Content Assignment\n",
    "\n",
    "`translation_func()` and `cont_assignment()` are defined in the same cell as they call each other recursively.\n",
    "\n",
    "\n",
    "- `translation_func()` iterates through the list of triples and calls either `instance_assignment()`, `role_assignment()` or `cont_assignment()`.\n",
    "\n",
    "- `cont_assignment()` identifies the subgraph which forms the scope of **:content** and applies `translation_func()` to that subgraph."
   ],
   "metadata": {}
  },
  {
   "cell_type": "code",
   "execution_count": 132,
   "source": [
    "def translation_func(graph, free, world, tree_depth):\n",
    "    lf = ''\n",
    "    triple_index = 0\n",
    "\n",
    "    while triple_index < len(graph):\n",
    "        triple = graph[triple_index]\n",
    "\n",
    "        # instance assignment\n",
    "        if triple[1] == ':instance':\n",
    "            lf += ' & ' + instance_assignment(triple, free, world)[0]\n",
    "            triple_index += 1\n",
    "            \n",
    "        # content assignment\n",
    "        elif triple[1] == ':content':\n",
    "            cont_lf, free, triple_index = cont_assignment(graph, free, world, tree_depth, triple_index)\n",
    "            lf += ' & ' + cont_lf\n",
    "            \n",
    "        # role assignment\n",
    "        else:\n",
    "            lf += ' & ' + role_assignment(triple, world)\n",
    "            triple_index += 1\n",
    "            \n",
    "    # Removes surplus leading conjunction\n",
    "    lf = lf[3:]\n",
    "\n",
    "    return lf, free\n",
    "\n",
    "\n",
    "def cont_assignment(graph, free, world, tree_depth, triple_index):\n",
    "\n",
    "    world += 1\n",
    "    content_free = set()\n",
    "    subgraph = []\n",
    "\n",
    "    triple = graph[triple_index]\n",
    "    triple_index += 1\n",
    "\n",
    "    # build subgraph by iterating through remaining triples, if depth < or = that of triple, break\n",
    "    for remaining_triple in graph[triple_index:]:\n",
    "        if tree_depth[remaining_triple] <= tree_depth[triple]:\n",
    "            break\n",
    "        else: \n",
    "            subgraph.append(remaining_triple)\n",
    "            triple_index += 1\n",
    "\n",
    "    # Translate subgraph\n",
    "    content_lf, content_free = translation_func(subgraph, content_free, world, tree_depth)\n",
    "\n",
    "    content_lf = close(content_lf, content_free, world)[0]\n",
    "\n",
    "    lf = f'cont({triple[0]})({content_lf})(w_{world-1})'\n",
    "\n",
    "    free -= content_free\n",
    "\n",
    "    return lf, free, triple_index"
   ],
   "outputs": [],
   "metadata": {}
  },
  {
   "cell_type": "code",
   "execution_count": 133,
   "source": [
    "amr = '(x / P :R (y / Q :content (z / S :content (a / A))) :R2 z)'\n",
    "g = penman.decode(amr)\n",
    "tree_depth = node_depth(g.epidata)\n",
    "graph = g.triples\n",
    "\n",
    "cont_assignment(graph, set(), world, tree_depth, 3)[0]"
   ],
   "outputs": [
    {
     "output_type": "execute_result",
     "data": {
      "text/plain": [
       "'cont(y)(λw_1.∃z.S(z)(w_1) & cont(z)(λw_2.∃a.A(a)(w_2))(w_1))(w_0)'"
      ]
     },
     "metadata": {},
     "execution_count": 133
    }
   ],
   "metadata": {}
  },
  {
   "cell_type": "markdown",
   "source": [
    "## Examples"
   ],
   "metadata": {}
  },
  {
   "cell_type": "code",
   "execution_count": 134,
   "source": [
    "ex1 = '(a / admire-01 :ARG0 (b / boy) :ARG1 b))'\n",
    "ex2 = '(b / believe-01 :ARG0 (b2 / boy) :content (s / sick-05 :ARG1 b2) :time (r / rain))'\n",
    "ex3 = '(t / think-01 :ARG0 (b / boy) :content (h / hope-01 :ARG0 (g / girl) :content (b2 / buy-01 :ARG0 g :ARG1 (v /violin))))'"
   ],
   "outputs": [],
   "metadata": {}
  },
  {
   "cell_type": "code",
   "execution_count": 135,
   "source": [
    "for ex in [ex1,ex2,ex3]:\n",
    "    g = penman.decode(ex)\n",
    "    tree_depth = node_depth(g.epidata)\n",
    "    graph = g.triples\n",
    "    free = set()\n",
    "    world = 0\n",
    "    \n",
    "    lf, free = translation_func(graph, free, world, tree_depth)\n",
    "    lf_closed = close(lf, free, world)[0]\n",
    "\n",
    "    print(f'⟦{ex}⟧')\n",
    "    print('=' + lf_closed)\n",
    "    print('-' * 20)"
   ],
   "outputs": [
    {
     "output_type": "stream",
     "name": "stdout",
     "text": [
      "⟦(a / admire-01 :ARG0 (b / boy) :ARG1 b))⟧\n",
      "=λw_0.∃b,a.admire-01(a)(w_0) & ARG0(a)(b)(w_0) & boy(b)(w_0) & ARG1(a)(b)(w_0)\n",
      "--------------------\n",
      "⟦(b / believe-01 :ARG0 (b2 / boy) :content (s / sick-05 :ARG1 b2) :time (r / rain))⟧\n",
      "=λw_0.∃b2,b,r.believe-01(b)(w_0) & ARG0(b)(b2)(w_0) & boy(b2)(w_0) & cont(b)(λw_1.∃s.sick-05(s)(w_1) & ARG1(s)(b2)(w_1))(w_0) & time(b)(r)(w_0) & rain(r)(w_0)\n",
      "--------------------\n",
      "⟦(t / think-01 :ARG0 (b / boy) :content (h / hope-01 :ARG0 (g / girl) :content (b2 / buy-01 :ARG0 g :ARG1 (v /violin))))⟧\n",
      "=λw_0.∃t,b.think-01(t)(w_0) & ARG0(t)(b)(w_0) & boy(b)(w_0) & cont(t)(λw_1.∃g,h.hope-01(h)(w_1) & ARG0(h)(g)(w_1) & girl(g)(w_1) & cont(h)(λw_2.∃b2,v.buy-01(b2)(w_2) & ARG0(b2)(g)(w_2) & ARG1(b2)(v)(w_2) & violin(v)(w_2))(w_1))(w_0)\n",
      "--------------------\n"
     ]
    }
   ],
   "metadata": {}
  }
 ],
 "metadata": {
  "orig_nbformat": 4,
  "language_info": {
   "name": "python",
   "version": "3.8.10",
   "mimetype": "text/x-python",
   "codemirror_mode": {
    "name": "ipython",
    "version": 3
   },
   "pygments_lexer": "ipython3",
   "nbconvert_exporter": "python",
   "file_extension": ".py"
  },
  "kernelspec": {
   "name": "python3",
   "display_name": "Python 3.8.10 64-bit"
  },
  "interpreter": {
   "hash": "31f2aee4e71d21fbe5cf8b01ff0e069b9275f58929596ceb00d14d90e3e16cd6"
  }
 },
 "nbformat": 4,
 "nbformat_minor": 2
}